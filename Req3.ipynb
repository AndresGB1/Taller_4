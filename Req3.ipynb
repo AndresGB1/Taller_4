{
 "cells": [
  {
   "cell_type": "code",
   "execution_count": 42,
   "metadata": {},
   "outputs": [],
   "source": [
    "import time\n",
    "from datetime import datetime as dt\n",
    "\n",
    "from google.cloud import bigtable\n",
    "from google.cloud.bigtable import column_family, row_filters\n",
    "from google.cloud.bigtable.row_set import RowSet\n",
    "import google.cloud.bigtable.row_filters as row_filters\n",
    "import pandas as pd"
   ]
  },
  {
   "cell_type": "markdown",
   "metadata": {},
   "source": [
    "### Conection"
   ]
  },
  {
   "cell_type": "code",
   "execution_count": 43,
   "metadata": {},
   "outputs": [],
   "source": [
    "INSTANCE_ID = 'bigtable-1'\n",
    "TABLE_ID = 'Power{}'.format(time.time())\n",
    "client = bigtable.Client.from_service_account_json('../unbosque-service-account.json', admin = True)\n",
    "instance = client.instance(  INSTANCE_ID)"
   ]
  },
  {
   "cell_type": "code",
   "execution_count": 44,
   "metadata": {},
   "outputs": [],
   "source": [
    "p1_gendata = pd.read_csv(\"../data/Plant_1_Generation_Data.csv\")"
   ]
  },
  {
   "cell_type": "markdown",
   "metadata": {},
   "source": [
    "### Creating Table plant 1 generation data and family"
   ]
  },
  {
   "cell_type": "code",
   "execution_count": 45,
   "metadata": {},
   "outputs": [
    {
     "name": "stdout",
     "output_type": "stream",
     "text": [
      "Creating the Power1649486163.977571 table\n"
     ]
    }
   ],
   "source": [
    "\"\"\"Creating Table plant 1 generation data csv\"\"\"\n",
    "print('Creating the {} table'.format(TABLE_ID))\n",
    "table = instance.table(TABLE_ID)\n",
    "\n",
    "if not table.exists():\n",
    "    table.create()\n",
    "else:\n",
    "    print(\"ERROR: Table {} already exists\".format(TABLE_ID))"
   ]
  },
  {
   "cell_type": "code",
   "execution_count": 46,
   "metadata": {},
   "outputs": [
    {
     "name": "stdout",
     "output_type": "stream",
     "text": [
      "Creating POWER Column\n"
     ]
    }
   ],
   "source": [
    "print('Creating POWER Column')\n",
    "power_cfId = 'Power'\n",
    "power_cf = table.column_family(power_cfId)\n",
    "power_cf.create()"
   ]
  },
  {
   "cell_type": "markdown",
   "metadata": {},
   "source": [
    "### Inserting data into table plant 1 generation data "
   ]
  },
  {
   "cell_type": "code",
   "execution_count": 48,
   "metadata": {},
   "outputs": [
    {
     "name": "stdout",
     "output_type": "stream",
     "text": [
      "Writing TOTAL YIELD\n",
      "Done\n"
     ]
    }
   ],
   "source": [
    "#Aquí me salió el siguiente error: 'Maximum number of mutations is 100000' por ende recurrí a borrar\n",
    "#Las otras columnas (AC_POWER, DC_POWER, DAILY YIELD)\n",
    "dt = dt.utcnow()\n",
    "rows = []\n",
    "\n",
    "json = p1_gendata.to_dict(orient='records')\n",
    "\n",
    "print('Writing TOTAL YIELD')\n",
    "\n",
    "for power in json:\n",
    "    \n",
    "    row_key = 'plant1#{}#{}'.format(power['SOURCE_KEY'],power['DATE_TIME']).encode()\n",
    "    row = table.direct_row(row_key)\n",
    "    \n",
    "    row.set_cell(power_cfId, 'total_yield'.encode(),str(power['TOTAL_YIELD'] ),timestamp=dt)\n",
    "    rows.append(row)\n",
    "\n",
    "table.mutate_rows(rows)\n",
    "print('Done')\n",
    "  \n"
   ]
  },
  {
   "cell_type": "code",
   "execution_count": 49,
   "metadata": {},
   "outputs": [],
   "source": [
    "def print_row(row):\n",
    "    print(\"Reading data for {}:\".format(row.row_key.decode(\"utf-8\")))\n",
    "    for cf, cols in sorted(row.cells.items()):\n",
    "        print(\"Column Family {}\".format(cf))\n",
    "        for col, cells in sorted(cols.items()):\n",
    "            for cell in cells:\n",
    "                labels = (\n",
    "                    \" [{}]\".format(\",\".join(cell.labels)) if len(cell.labels) else \"\"\n",
    "                )\n",
    "                print(\n",
    "                    \"\\t{}: {} @{}{}\".format(\n",
    "                        col.decode(\"utf-8\"),\n",
    "                        cell.value.decode(\"utf-8\"),\n",
    "                        cell.timestamp,\n",
    "                        labels,\n",
    "                    )\n",
    "                )\n",
    "    print(\"\")"
   ]
  },
  {
   "cell_type": "code",
   "execution_count": 50,
   "metadata": {},
   "outputs": [
    {
     "name": "stdout",
     "output_type": "stream",
     "text": [
      "Reading data for plant1#adLQvlD726eNBSB#15-05-2020 14:15:\n",
      "Column Family Power\n",
      "\ttotal_yield: 6275988.143 @2022-04-09 06:36:39.584000+00:00\n",
      "\ttotal_yield: 6275988.143 @2022-04-09 06:36:20.774000+00:00\n",
      "\n"
     ]
    }
   ],
   "source": [
    "row_key = \"plant1#adLQvlD726eNBSB#15-05-2020 14:15\"\n",
    "row = table.read_row(row_key)\n",
    "print_row(row)"
   ]
  }
 ],
 "metadata": {
  "interpreter": {
   "hash": "e7370f93d1d0cde622a1f8e1c04877d8463912d04d973331ad4851f04de6915a"
  },
  "kernelspec": {
   "display_name": "Python 3 (ipykernel)",
   "language": "python",
   "name": "python3"
  },
  "language_info": {
   "codemirror_mode": {
    "name": "ipython",
    "version": 3
   },
   "file_extension": ".py",
   "mimetype": "text/x-python",
   "name": "python",
   "nbconvert_exporter": "python",
   "pygments_lexer": "ipython3",
   "version": "3.10.2"
  }
 },
 "nbformat": 4,
 "nbformat_minor": 4
}
