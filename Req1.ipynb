{
 "cells": [
  {
   "cell_type": "code",
   "execution_count": 49,
   "metadata": {},
   "outputs": [],
   "source": [
    "import time\n",
    "from datetime import datetime as dt\n",
    "\n",
    "from google.cloud import bigtable\n",
    "from google.cloud.bigtable import column_family, row_filters\n",
    "from google.cloud.bigtable.row_set import RowSet\n",
    "import google.cloud.bigtable.row_filters as row_filters\n",
    "import pandas as pd"
   ]
  },
  {
   "cell_type": "markdown",
   "metadata": {},
   "source": [
    "### Conection"
   ]
  },
  {
   "cell_type": "code",
   "execution_count": 13,
   "metadata": {},
   "outputs": [],
   "source": [
    "INSTANCE_ID = 'bigtable-1'\n",
    "TABLE_ID1 = 'p1_gen{}'.format(time.time())\n",
    "TABLE_ID2 = 'p2_gen{}'.format(time.time())\n",
    "TABLE_ID3 = 'p1_weather{}'.format(time.time())\n",
    "TABLE_ID4 = 'p2_weather{}'.format(time.time())\n",
    "client = bigtable.Client.from_service_account_json('../unbosque-service-account.json', admin = True)\n",
    "instance = client.instance(  INSTANCE_ID)"
   ]
  },
  {
   "cell_type": "code",
   "execution_count": 14,
   "metadata": {},
   "outputs": [],
   "source": [
    "p1_gendata = pd.read_csv(\"../data/Plant_1_Generation_Data.csv\")\n",
    "p1_weatherdata = pd.read_csv(\"../data/Plant_1_Weather_Sensor_Data.csv\")\n",
    "p2_gendata = pd.read_csv(\"../data/Plant_2_Generation_Data.csv\")\n",
    "p2_weatherdata = pd.read_csv(\"../data/Plant_2_Weather_Sensor_Data.csv\")"
   ]
  },
  {
   "cell_type": "markdown",
   "metadata": {},
   "source": [
    "### Creating Tables"
   ]
  },
  {
   "cell_type": "code",
   "execution_count": 15,
   "metadata": {},
   "outputs": [
    {
     "name": "stdout",
     "output_type": "stream",
     "text": [
      "Creating the Ambiente1649480064.9717906 table\n"
     ]
    }
   ],
   "source": [
    "\"\"\"Creating Tables\"\"\"\n",
    "print('Creating the tables')\n",
    "table1 = instance.table(TABLE_ID1)\n",
    "table2 = instance.table(TABLE_ID2)\n",
    "table3 = instance.table(TABLE_ID3)\n",
    "table4 = instance.table(TABLE_ID4)\n",
    "\n",
    "\n",
    "if not table1.exists() and not table2.exists() and not table3.exists() and not table4.exists():\n",
    "    table1.create()\n",
    "    table2.create()\n",
    "    table3.create()\n",
    "    table4.create()\n",
    "else:\n",
    "    print(\"ERROR: Table already exists\")\n"
   ]
  },
  {
   "cell_type": "code",
   "execution_count": 18,
   "metadata": {},
   "outputs": [
    {
     "name": "stdout",
     "output_type": "stream",
     "text": [
      "Creating all family columns\n",
      "ID'S: DATE_TIME,PLANT_ID,SOURCE_KEY,DC_POWER,AC_POWER,DAILY_YIELD,TOTAL_YIELD\n"
     ]
    }
   ],
   "source": [
    "print('Creating all family columns from tables')\n",
    "p1_power_cfId = 'p1_power'\n",
    "p1_power_cf = table1.column_family(p1_power_cfId)\n",
    "p1_power_cf.create()\n",
    "\n",
    "p2_power_cfId = 'p2_power'\n",
    "p2_power_cf = table2.column_family(p2_power_cfId)\n",
    "p2_power_cf.create()\n",
    "\n",
    "p1_weather_cfId = 'p1_weather'\n",
    "p1_weather_cf = table3.column_family(p1_weather_cfId)\n",
    "p1_weather_cf.create()\n",
    "\n",
    "p2_weatherdata_cfId = 'p2_weather'\n",
    "p2_weatherdata_cf = table4.column_family(p2_weatherdata_cfId)\n",
    "p2_weatherdata_cf.create()"
   ]
  },
  {
   "cell_type": "markdown",
   "metadata": {},
   "source": [
    "### Inserting data into table plant 1 generation data "
   ]
  },
  {
   "cell_type": "code",
   "execution_count": null,
   "metadata": {},
   "outputs": [],
   "source": [
    "dt = dt.utcnow()\n",
    "rows = []\n",
    "json1 = p1_gendata.to_dict(orient='records')\n",
    "json2 = p2_gendata.to_dict(orient='records')\n",
    "json3 = p1_weatherdata.to_dict(orient='records')\n",
    "json4 = p2_weatherdata.to_dict(orient='records')\n",
    "\n",
    "print('Writing Table 1')\n",
    "for power in json1:\n",
    "    row_key = 'plant1#{}'.format(power['SOURCE_KEY']).encode()\n",
    "    row = table1.direct_row(row_key)\n",
    "    row.set_cell(p1_power_cfId, 'DC_POWER'.encode(), str(power['POWER']), timestamp = dt)\n",
    "    row.set_cell(p1_power_cfId, 'AC_POWER'.encode(), str(power['AC_POWER']), timestamp = dt)\n",
    "    row.set_cell(p1_power_cfId, 'DAILY_YIELD'.encode(), str(power['DAILY_YIELD']), timestamp = dt)\n",
    "    row.set_cell(p1_power_cfId, 'TOTAL_YIELD'.encode(), str(power['TOTAL_YIELD']), timestamp = dt)\n",
    "    rows.append(row)\n",
    "table1.mutate_rows(rows)\n",
    "\n",
    "print('Writing Table 2')\n",
    "for power in json2:\n",
    "    row_key = 'plant2#{}'.format(power['SOURCE_KEY']).encode()\n",
    "    row = table2.direct_row(row_key)\n",
    "    row.set_cell(p2_power_cfId, 'DC_POWER'.encode(), str(power['POWER']), timestamp = dt)\n",
    "    row.set_cell(p2_power_cfId, 'AC_POWER'.encode(), str(power['AC_POWER']), timestamp = dt)\n",
    "    row.set_cell(p2_power_cfId, 'DAILY_YIELD'.encode(), str(power['DAILY_YIELD']), timestamp = dt)\n",
    "    row.set_cell(p2_power_cfId, 'TOTAL_YIELD'.encode(), str(power['TOTAL_YIELD']), timestamp = dt)\n",
    "    rows.append(row)\n",
    "table2.mutate_rows(rows)\n",
    "\n",
    "print('Writing Table 3')\n",
    "for weather in json3:\n",
    "    row_key = 'plant1#{}'.format(weather['DATE_TIME']).encode()\n",
    "    row = table3.direct_row(row_key)\n",
    "    row.set_cell(p1_weather_cfId, 'ambient_temp'.encode(), str(weather['AMBIENT_TEMPERATURE']), timestamp = dt)\n",
    "    row.set_cell(p1_weather_cfId, 'module_temp'.encode(), str(weather['MODULE_TEMPERATURE']), timestamp = dt)\n",
    "    row.set_cell(p1_weather_cfId, 'irradiation'.encode(), str(weather['IRRADIATION']), timestamp = dt)\n",
    "    rows.append(row)\n",
    "table3.mutate_rows(rows)\n",
    "  \n",
    "print('Writing Table 4')\n",
    "for weather in json4:\n",
    "    row_key = 'plant2#{}'.format(weather['DATE_TIME']).encode()\n",
    "    row = table4.direct_row(row_key)\n",
    "    row.set_cell(p2_weatherdata_cfId, 'ambient_temp'.encode(), str(weather['AMBIENT_TEMPERATURE']), timestamp = dt)\n",
    "    row.set_cell(p2_weatherdata_cfId, 'module_temp'.encode(), str(weather['MODULE_TEMPERATURE']), timestamp = dt)\n",
    "    row.set_cell(p2_weatherdata_cfId, 'irradiation'.encode(), str(weather['IRRADIATION']), timestamp = dt)\n",
    "    rows.append(row)\n"
   ]
  }
 ],
 "metadata": {
  "interpreter": {
   "hash": "e7370f93d1d0cde622a1f8e1c04877d8463912d04d973331ad4851f04de6915a"
  },
  "kernelspec": {
   "display_name": "Python 3 (ipykernel)",
   "language": "python",
   "name": "python3"
  },
  "language_info": {
   "codemirror_mode": {
    "name": "ipython",
    "version": 3
   },
   "file_extension": ".py",
   "mimetype": "text/x-python",
   "name": "python",
   "nbconvert_exporter": "python",
   "pygments_lexer": "ipython3",
   "version": "3.10.2"
  }
 },
 "nbformat": 4,
 "nbformat_minor": 4
}
